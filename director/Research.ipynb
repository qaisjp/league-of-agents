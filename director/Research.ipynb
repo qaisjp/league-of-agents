{
 "cells": [
  {
   "cell_type": "code",
   "execution_count": 15,
   "metadata": {},
   "outputs": [],
   "source": [
    "import numpy as np\n",
    "from matplotlib import pyplot as plt\n",
    "from matplotlib.pyplot import imshow\n",
    "import pickle\n",
    "from agents.classes import *\n",
    "import json\n",
    "from agents import *"
   ]
  },
  {
   "cell_type": "code",
   "execution_count": 71,
   "metadata": {},
   "outputs": [],
   "source": [
    "replay = open(\"replays/1-agents-2019-11-16 19_26_48.541701.json\",'rt')\n",
    "obs = json.load(replay)\n",
    "replay.close()"
   ]
  },
  {
   "cell_type": "code",
   "execution_count": 72,
   "metadata": {},
   "outputs": [
    {
     "data": {
      "text/plain": [
       "548"
      ]
     },
     "execution_count": 72,
     "metadata": {},
     "output_type": "execute_result"
    }
   ],
   "source": [
    "len(obs[\"steps\"])"
   ]
  },
  {
   "cell_type": "code",
   "execution_count": 73,
   "metadata": {},
   "outputs": [],
   "source": [
    "grid = np.array(obs[\"steps\"][0][\"state\"][\"grid\"], dtype=float)"
   ]
  },
  {
   "cell_type": "code",
   "execution_count": 74,
   "metadata": {},
   "outputs": [
    {
     "data": {
      "text/plain": [
       "<matplotlib.image.AxesImage at 0x119bbfc50>"
      ]
     },
     "execution_count": 74,
     "metadata": {},
     "output_type": "execute_result"
    },
    {
     "data": {
      "image/png": "[encoded data removed]",
      "text/plain": [
       "<Figure size 432x288 with 1 Axes>"
      ]
     },
     "metadata": {
      "needs_background": "light"
     },
     "output_type": "display_data"
    }
   ],
   "source": [
    "imshow(grid)"
   ]
  },
  {
   "cell_type": "code",
   "execution_count": 75,
   "metadata": {},
   "outputs": [],
   "source": [
    "# Let's write a massive function to parse this thing\n",
    "def parse_car(c):\n",
    "    return Car(c[\"id\"], c[\"position\"], c[\"capacity\"], c[\"available_capacity\"], c[\"customers\"])\n",
    "def parse_team(t):\n",
    "    cars = []\n",
    "    for c in t[\"cars\"]:\n",
    "        cc = parse_car(c)\n",
    "        cars.append(cc)\n",
    "    return Team(t[\"id\"], t[\"name\"], cars, t[\"score\"])\n",
    "def parse_customer(c):\n",
    "    return Customer(c['id'], c['position'], c['destination'])\n",
    "def parse_state(s):\n",
    "    customers = []\n",
    "    teams = []\n",
    "    for c in s[\"customers\"]:\n",
    "        cc = parse_customer(c)\n",
    "        customers.append(cc)\n",
    "    for t in s[\"teams\"]:\n",
    "        tt = parse_team(t)\n",
    "        teams.append(tt)\n",
    "    return State(s[\"grid\"], teams, customers, s[\"ticks\"])\n",
    "def parse_actions(acc):\n",
    "    actions = []\n",
    "    for a in acc:\n",
    "        ac = Action(a[\"car_id\"], a[\"direction\"])\n",
    "        actions.append(ac)\n",
    "    return actions\n",
    "def parse_step(s):\n",
    "    acts = []\n",
    "    st = parse_state(s[\"state\"])\n",
    "    for ac in s[\"acts\"]:\n",
    "        acc = {\n",
    "            \"team\": ac[\"team\"],\n",
    "            \"actions\": parse_actions(ac[\"actions\"])\n",
    "        }\n",
    "        acts.append(acc)\n",
    "    step = {\n",
    "        \"state\": st,\n",
    "        \"acts\": acts\n",
    "    }\n",
    "    return step\n",
    "def parse_replay(rep):\n",
    "    steps = []\n",
    "    for s in rep[\"steps\"]:\n",
    "        ss = parse_step(s)\n",
    "        steps.append(ss)\n",
    "    config = rep[\"config\"]\n",
    "    return {\n",
    "        \"steps\": steps,\n",
    "        \"config\": config\n",
    "    }"
   ]
  },
  {
   "cell_type": "code",
   "execution_count": 76,
   "metadata": {},
   "outputs": [],
   "source": [
    "rep = parse_replay(obs)"
   ]
  },
  {
   "cell_type": "code",
   "execution_count": 77,
   "metadata": {},
   "outputs": [
    {
     "data": {
      "text/plain": [
       "'0'"
      ]
     },
     "execution_count": 77,
     "metadata": {},
     "output_type": "execute_result"
    }
   ],
   "source": [
    "rep[\"steps\"][0][\"state\"].teams[0].id"
   ]
  },
  {
   "cell_type": "code",
   "execution_count": 78,
   "metadata": {},
   "outputs": [],
   "source": [
    "def get_other_cars_map(state, team_id, size):\n",
    "    non_teams = []\n",
    "    for t in state.teams:\n",
    "        if t.id != team_id:\n",
    "            non_teams.append(t)\n",
    "    grid = np.zeros(size, dtype=np.float)\n",
    "    for t in non_teams:\n",
    "        for c in t.cars:\n",
    "            grid[c.position[1], c.position[0]] = 1\n",
    "    return grid"
   ]
  },
  {
   "cell_type": "code",
   "execution_count": 79,
   "metadata": {},
   "outputs": [],
   "source": [
    "width = len(rep[\"steps\"][0][\"state\"].grid)\n",
    "size = (width, width)"
   ]
  },
  {
   "cell_type": "code",
   "execution_count": 80,
   "metadata": {},
   "outputs": [
    {
     "data": {
      "text/plain": [
       "<matplotlib.image.AxesImage at 0x11ae19210>"
      ]
     },
     "execution_count": 80,
     "metadata": {},
     "output_type": "execute_result"
    },
    {
     "data": {
      "image/png": "[encoded data removed]",
      "text/plain": [
       "<Figure size 432x288 with 1 Axes>"
      ]
     },
     "metadata": {
      "needs_background": "light"
     },
     "output_type": "display_data"
    }
   ],
   "source": [
    "imshow(get_other_cars_map(rep[\"steps\"][0][\"state\"], '1',size))"
   ]
  },
  {
   "cell_type": "code",
   "execution_count": 111,
   "metadata": {},
   "outputs": [],
   "source": [
    "def Astar(start, dest, grid):\n",
    "    directions = [(1, 0), (0, 1), (-1, 0), (0, -1)]\n",
    "\n",
    "    pq = PriorityQueue()\n",
    "    pq.push(start, 0)\n",
    "\n",
    "    parent = {}\n",
    "    cost = {}\n",
    "    parent[start] = None\n",
    "    cost[start] = 0\n",
    "\n",
    "    while not pq.is_empty():\n",
    "        curr = pq.pop()\n",
    "\n",
    "        if curr == dest:\n",
    "            break\n",
    "\n",
    "        for dir in directions:\n",
    "            neighbor = add(curr, dir)\n",
    "            if neighbor[0] < 0:\n",
    "                continue\n",
    "            if neighbor[0] >= len(grid): #TODO\n",
    "                continue\n",
    "            if neighbor[1] < 0:\n",
    "                continue\n",
    "            if neighbor[1] >= len(grid[0]): #TODO\n",
    "                continue\n",
    "            if grid[neighbor[1]][neighbor[0]] == False:\n",
    "                continue\n",
    "\n",
    "            n_cost = cost[curr] + 1\n",
    "            if neighbor not in cost.keys() or n_cost < cost[neighbor]:\n",
    "                cost[neighbor] = n_cost\n",
    "                priority = n_cost + heuristic(neighbor, dest)\n",
    "                pq.push(neighbor, priority)\n",
    "                parent[neighbor] = curr\n",
    "\n",
    "    if dest not in parent.keys():\n",
    "        return None, None\n",
    "        \n",
    "    if dest == start:\n",
    "        return None, None\n",
    "\n",
    "    prev = dest\n",
    "    targ = None\n",
    "    route = []\n",
    "    while not prev == start:\n",
    "        route = [prev] + route\n",
    "        targ = prev\n",
    "        prev = parent[prev]\n",
    "    return route, cost[dest]\n",
    "def add(x, y):\n",
    "    s1 = x[0] + y[0]\n",
    "    s2 = x[1] + y[1]\n",
    "    return (s1, s2)\n",
    "def heuristic(pos1, pos2):\n",
    "    (x1, y1) = pos1\n",
    "    (x2, y2) = pos2\n",
    "    return abs(x1 - x2) + abs(y1 - y2)"
   ]
  },
  {
   "cell_type": "code",
   "execution_count": 114,
   "metadata": {},
   "outputs": [],
   "source": [
    "def get_available_customers(state, size):\n",
    "    grid = np.zeros(size, dtype=np.float)\n",
    "    customers_in_cars = []\n",
    "    for t in state.teams:\n",
    "        for c in t.cars:\n",
    "            customers_in_cars += c.customers\n",
    "    for c in state.customers:\n",
    "        route, distance = Astar(tuple(c.position), tuple(c.destination), state.grid)\n",
    "        if distance is not None:\n",
    "            grid[c.position[1], c.position[0]] = 1 * (distance / 10)\n",
    "        else:\n",
    "            grid[c.position[1], c.position[0]] = 1\n",
    "        if route is not None:\n",
    "            for r in route:\n",
    "                grid[r[1], r[0]] = 0.5\n",
    "        grid[c.destination[1], c.destination[0]] = -1\n",
    "    return grid"
   ]
  },
  {
   "cell_type": "code",
   "execution_count": 116,
   "metadata": {},
   "outputs": [],
   "source": [
    "customer_map = get_available_customers(rep[\"steps\"][22][\"state\"], size)"
   ]
  },
  {
   "cell_type": "code",
   "execution_count": 117,
   "metadata": {},
   "outputs": [
    {
     "data": {
      "text/plain": [
       "4.2"
      ]
     },
     "execution_count": 117,
     "metadata": {},
     "output_type": "execute_result"
    }
   ],
   "source": [
    "np.max(customer_map)"
   ]
  },
  {
   "cell_type": "code",
   "execution_count": 118,
   "metadata": {},
   "outputs": [
    {
     "data": {
      "text/plain": [
       "<matplotlib.image.AxesImage at 0x119a9f990>"
      ]
     },
     "execution_count": 118,
     "metadata": {},
     "output_type": "execute_result"
    },
    {
     "data": {
      "image/png": "[encoded data removed]",
      "text/plain": [
       "<Figure size 432x288 with 1 Axes>"
      ]
     },
     "metadata": {
      "needs_background": "light"
     },
     "output_type": "display_data"
    }
   ],
   "source": [
    "imshow(customer_map)"
   ]
  },
  {
   "cell_type": "code",
   "execution_count": 120,
   "metadata": {},
   "outputs": [],
   "source": [
    "def get_my_cars_map(state, team_id, size):\n",
    "    my_cars = []\n",
    "    def get_customer_from_id(id):\n",
    "        for c in state.customers:\n",
    "            if c.id == id:\n",
    "                return c\n",
    "    for t in state.teams:\n",
    "        if t.id == team_id:\n",
    "            for c in t.cars:\n",
    "                my_cars.append(c)\n",
    "    grids = [np.zeros(size, dtype=np.float) for _ in range(len(my_cars))]\n",
    "    for c, g in zip(my_cars, grids):\n",
    "        for cust_id in c.customers:\n",
    "            cust = get_customer_from_id(cust_id)\n",
    "            g[cust.destination[1], cust.destination[0]] = -1\n",
    "        g[c.position[1], c.position[0]] = 1\n",
    "    return grids"
   ]
  },
  {
   "cell_type": "code",
   "execution_count": 121,
   "metadata": {},
   "outputs": [],
   "source": [
    "grids = get_my_cars_map(rep[\"steps\"][22][\"state\"], '0', size)"
   ]
  },
  {
   "cell_type": "code",
   "execution_count": 131,
   "metadata": {},
   "outputs": [
    {
     "data": {
      "text/plain": [
       "<matplotlib.image.AxesImage at 0x11a4212d0>"
      ]
     },
     "execution_count": 131,
     "metadata": {},
     "output_type": "execute_result"
    },
    {
     "data": {
      "image/png": "[encoded data removed]",
      "text/plain": [
       "<Figure size 432x288 with 1 Axes>"
      ]
     },
     "metadata": {
      "needs_background": "light"
     },
     "output_type": "display_data"
    }
   ],
   "source": [
    "imshow(grids[1])"
   ]
  },
  {
   "cell_type": "code",
   "execution_count": null,
   "metadata": {},
   "outputs": [],
   "source": []
  }
 ],
 "metadata": {
  "kernelspec": {
   "display_name": "Python 3",
   "language": "python",
   "name": "python3"
  },
  "language_info": {
   "codemirror_mode": {
    "name": "ipython",
    "version": 3
   },
   "file_extension": ".py",
   "mimetype": "text/x-python",
   "name": "python",
   "nbconvert_exporter": "python",
   "pygments_lexer": "ipython3",
   "version": "3.7.5"
  }
 },
 "nbformat": 4,
 "nbformat_minor": 4
}
